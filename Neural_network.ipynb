{
  "cells": [
    {
      "cell_type": "markdown",
      "metadata": {
        "id": "view-in-github",
        "colab_type": "text"
      },
      "source": [
        "<a href=\"https://colab.research.google.com/github/ayushi-006/pytorch/blob/main/Neural_network.ipynb\" target=\"_parent\"><img src=\"https://colab.research.google.com/assets/colab-badge.svg\" alt=\"Open In Colab\"/></a>"
      ]
    },
    {
      "cell_type": "markdown",
      "id": "9b5d82de-5f6b-42c6-921e-e50c6edfc98c",
      "metadata": {
        "id": "9b5d82de-5f6b-42c6-921e-e50c6edfc98c"
      },
      "source": [
        " # NEURAL NETWORK CLASSIFICATION WITH PyTorch\n",
        "\n",
        " A classification problem involves predicting whether something is one thing or another."
      ]
    },
    {
      "cell_type": "markdown",
      "id": "a75a79c1-6316-428c-83a3-e0f734915839",
      "metadata": {
        "id": "a75a79c1-6316-428c-83a3-e0f734915839"
      },
      "source": [
        "## 1. **Make classification data and get it read**"
      ]
    },
    {
      "cell_type": "code",
      "execution_count": null,
      "id": "6fe89ca8-083e-4e32-8d5a-5443510ef00a",
      "metadata": {
        "colab": {
          "base_uri": "https://localhost:8080/"
        },
        "id": "6fe89ca8-083e-4e32-8d5a-5443510ef00a",
        "outputId": "6de35a4f-ba2e-437c-ca4d-6fda5d1a723b"
      },
      "outputs": [
        {
          "output_type": "stream",
          "name": "stdout",
          "text": [
            "Requirement already satisfied: scikit-learn in /usr/local/lib/python3.11/dist-packages (1.6.1)\n",
            "Requirement already satisfied: numpy>=1.19.5 in /usr/local/lib/python3.11/dist-packages (from scikit-learn) (2.0.2)\n",
            "Requirement already satisfied: scipy>=1.6.0 in /usr/local/lib/python3.11/dist-packages (from scikit-learn) (1.15.2)\n",
            "Requirement already satisfied: joblib>=1.2.0 in /usr/local/lib/python3.11/dist-packages (from scikit-learn) (1.4.2)\n",
            "Requirement already satisfied: threadpoolctl>=3.1.0 in /usr/local/lib/python3.11/dist-packages (from scikit-learn) (3.6.0)\n"
          ]
        }
      ],
      "source": [
        "!pip install scikit-learn\n"
      ]
    },
    {
      "cell_type": "code",
      "execution_count": null,
      "id": "d1bc88fa-0cf1-41a3-9f04-8753d3dda50c",
      "metadata": {
        "colab": {
          "base_uri": "https://localhost:8080/"
        },
        "id": "d1bc88fa-0cf1-41a3-9f04-8753d3dda50c",
        "outputId": "213d4ba7-55f3-430f-cf10-98a11d2ea126"
      },
      "outputs": [
        {
          "output_type": "stream",
          "name": "stdout",
          "text": [
            "1.6.1\n"
          ]
        }
      ],
      "source": [
        "import sklearn\n",
        "print(sklearn.__version__)\n"
      ]
    },
    {
      "cell_type": "code",
      "execution_count": null,
      "id": "eab50256-fbae-40f4-8312-734b74f78822",
      "metadata": {
        "id": "eab50256-fbae-40f4-8312-734b74f78822"
      },
      "outputs": [],
      "source": [
        "import sklearn\n",
        "from sklearn.datasets import make_circles\n",
        "\n",
        "n_samples = 1000  #Make 1000 samples\n",
        "\n",
        "X, y = make_circles(n_samples,  #create circles\n",
        "                    noise = 0.03,\n",
        "                    random_state =42)"
      ]
    },
    {
      "cell_type": "code",
      "execution_count": null,
      "id": "5cfee841-cefe-426d-b3db-815e318306d1",
      "metadata": {
        "colab": {
          "base_uri": "https://localhost:8080/"
        },
        "id": "5cfee841-cefe-426d-b3db-815e318306d1",
        "outputId": "718dc16a-dcbd-4d05-ccfb-be447943d0da"
      },
      "outputs": [
        {
          "output_type": "stream",
          "name": "stdout",
          "text": [
            "First 5 X features:\n",
            "[[ 0.75424625  0.23148074]\n",
            " [-0.75615888  0.15325888]\n",
            " [-0.81539193  0.17328203]\n",
            " [-0.39373073  0.69288277]\n",
            " [ 0.44220765 -0.89672343]]\n",
            "\n",
            "First 5 y labels:\n",
            "[1 1 1 1 0]\n"
          ]
        }
      ],
      "source": [
        "print(f\"First 5 X features:\\n{X[:5]}\")\n",
        "print(f\"\\nFirst 5 y labels:\\n{y[:5]}\")"
      ]
    },
    {
      "cell_type": "code",
      "execution_count": null,
      "id": "478ca91c-6d2d-45a0-bf16-60df455407c3",
      "metadata": {
        "colab": {
          "base_uri": "https://localhost:8080/",
          "height": 484
        },
        "id": "478ca91c-6d2d-45a0-bf16-60df455407c3",
        "outputId": "e56b95b4-0e23-4a4a-81b4-e6f6fd9661ac"
      },
      "outputs": [
        {
          "output_type": "stream",
          "name": "stdout",
          "text": [
            "Requirement already satisfied: pandas in /usr/local/lib/python3.11/dist-packages (2.2.2)\n",
            "Requirement already satisfied: numpy>=1.23.2 in /usr/local/lib/python3.11/dist-packages (from pandas) (2.0.2)\n",
            "Requirement already satisfied: python-dateutil>=2.8.2 in /usr/local/lib/python3.11/dist-packages (from pandas) (2.9.0.post0)\n",
            "Requirement already satisfied: pytz>=2020.1 in /usr/local/lib/python3.11/dist-packages (from pandas) (2025.2)\n",
            "Requirement already satisfied: tzdata>=2022.7 in /usr/local/lib/python3.11/dist-packages (from pandas) (2025.2)\n",
            "Requirement already satisfied: six>=1.5 in /usr/local/lib/python3.11/dist-packages (from python-dateutil>=2.8.2->pandas) (1.17.0)\n",
            "2.2.2\n"
          ]
        },
        {
          "output_type": "execute_result",
          "data": {
            "text/plain": [
              "         X1        X2  label\n",
              "0  0.754246  0.231481      1\n",
              "1 -0.756159  0.153259      1\n",
              "2 -0.815392  0.173282      1\n",
              "3 -0.393731  0.692883      1\n",
              "4  0.442208 -0.896723      0\n",
              "5 -0.479646  0.676435      1\n",
              "6 -0.013648  0.803349      1\n",
              "7  0.771513  0.147760      1\n",
              "8 -0.169322 -0.793456      1\n",
              "9 -0.121486  1.021509      0"
            ],
            "text/html": [
              "\n",
              "  <div id=\"df-1c8ccc45-783e-4b5d-bb32-0622c1f2db71\" class=\"colab-df-container\">\n",
              "    <div>\n",
              "<style scoped>\n",
              "    .dataframe tbody tr th:only-of-type {\n",
              "        vertical-align: middle;\n",
              "    }\n",
              "\n",
              "    .dataframe tbody tr th {\n",
              "        vertical-align: top;\n",
              "    }\n",
              "\n",
              "    .dataframe thead th {\n",
              "        text-align: right;\n",
              "    }\n",
              "</style>\n",
              "<table border=\"1\" class=\"dataframe\">\n",
              "  <thead>\n",
              "    <tr style=\"text-align: right;\">\n",
              "      <th></th>\n",
              "      <th>X1</th>\n",
              "      <th>X2</th>\n",
              "      <th>label</th>\n",
              "    </tr>\n",
              "  </thead>\n",
              "  <tbody>\n",
              "    <tr>\n",
              "      <th>0</th>\n",
              "      <td>0.754246</td>\n",
              "      <td>0.231481</td>\n",
              "      <td>1</td>\n",
              "    </tr>\n",
              "    <tr>\n",
              "      <th>1</th>\n",
              "      <td>-0.756159</td>\n",
              "      <td>0.153259</td>\n",
              "      <td>1</td>\n",
              "    </tr>\n",
              "    <tr>\n",
              "      <th>2</th>\n",
              "      <td>-0.815392</td>\n",
              "      <td>0.173282</td>\n",
              "      <td>1</td>\n",
              "    </tr>\n",
              "    <tr>\n",
              "      <th>3</th>\n",
              "      <td>-0.393731</td>\n",
              "      <td>0.692883</td>\n",
              "      <td>1</td>\n",
              "    </tr>\n",
              "    <tr>\n",
              "      <th>4</th>\n",
              "      <td>0.442208</td>\n",
              "      <td>-0.896723</td>\n",
              "      <td>0</td>\n",
              "    </tr>\n",
              "    <tr>\n",
              "      <th>5</th>\n",
              "      <td>-0.479646</td>\n",
              "      <td>0.676435</td>\n",
              "      <td>1</td>\n",
              "    </tr>\n",
              "    <tr>\n",
              "      <th>6</th>\n",
              "      <td>-0.013648</td>\n",
              "      <td>0.803349</td>\n",
              "      <td>1</td>\n",
              "    </tr>\n",
              "    <tr>\n",
              "      <th>7</th>\n",
              "      <td>0.771513</td>\n",
              "      <td>0.147760</td>\n",
              "      <td>1</td>\n",
              "    </tr>\n",
              "    <tr>\n",
              "      <th>8</th>\n",
              "      <td>-0.169322</td>\n",
              "      <td>-0.793456</td>\n",
              "      <td>1</td>\n",
              "    </tr>\n",
              "    <tr>\n",
              "      <th>9</th>\n",
              "      <td>-0.121486</td>\n",
              "      <td>1.021509</td>\n",
              "      <td>0</td>\n",
              "    </tr>\n",
              "  </tbody>\n",
              "</table>\n",
              "</div>\n",
              "    <div class=\"colab-df-buttons\">\n",
              "\n",
              "  <div class=\"colab-df-container\">\n",
              "    <button class=\"colab-df-convert\" onclick=\"convertToInteractive('df-1c8ccc45-783e-4b5d-bb32-0622c1f2db71')\"\n",
              "            title=\"Convert this dataframe to an interactive table.\"\n",
              "            style=\"display:none;\">\n",
              "\n",
              "  <svg xmlns=\"http://www.w3.org/2000/svg\" height=\"24px\" viewBox=\"0 -960 960 960\">\n",
              "    <path d=\"M120-120v-720h720v720H120Zm60-500h600v-160H180v160Zm220 220h160v-160H400v160Zm0 220h160v-160H400v160ZM180-400h160v-160H180v160Zm440 0h160v-160H620v160ZM180-180h160v-160H180v160Zm440 0h160v-160H620v160Z\"/>\n",
              "  </svg>\n",
              "    </button>\n",
              "\n",
              "  <style>\n",
              "    .colab-df-container {\n",
              "      display:flex;\n",
              "      gap: 12px;\n",
              "    }\n",
              "\n",
              "    .colab-df-convert {\n",
              "      background-color: #E8F0FE;\n",
              "      border: none;\n",
              "      border-radius: 50%;\n",
              "      cursor: pointer;\n",
              "      display: none;\n",
              "      fill: #1967D2;\n",
              "      height: 32px;\n",
              "      padding: 0 0 0 0;\n",
              "      width: 32px;\n",
              "    }\n",
              "\n",
              "    .colab-df-convert:hover {\n",
              "      background-color: #E2EBFA;\n",
              "      box-shadow: 0px 1px 2px rgba(60, 64, 67, 0.3), 0px 1px 3px 1px rgba(60, 64, 67, 0.15);\n",
              "      fill: #174EA6;\n",
              "    }\n",
              "\n",
              "    .colab-df-buttons div {\n",
              "      margin-bottom: 4px;\n",
              "    }\n",
              "\n",
              "    [theme=dark] .colab-df-convert {\n",
              "      background-color: #3B4455;\n",
              "      fill: #D2E3FC;\n",
              "    }\n",
              "\n",
              "    [theme=dark] .colab-df-convert:hover {\n",
              "      background-color: #434B5C;\n",
              "      box-shadow: 0px 1px 3px 1px rgba(0, 0, 0, 0.15);\n",
              "      filter: drop-shadow(0px 1px 2px rgba(0, 0, 0, 0.3));\n",
              "      fill: #FFFFFF;\n",
              "    }\n",
              "  </style>\n",
              "\n",
              "    <script>\n",
              "      const buttonEl =\n",
              "        document.querySelector('#df-1c8ccc45-783e-4b5d-bb32-0622c1f2db71 button.colab-df-convert');\n",
              "      buttonEl.style.display =\n",
              "        google.colab.kernel.accessAllowed ? 'block' : 'none';\n",
              "\n",
              "      async function convertToInteractive(key) {\n",
              "        const element = document.querySelector('#df-1c8ccc45-783e-4b5d-bb32-0622c1f2db71');\n",
              "        const dataTable =\n",
              "          await google.colab.kernel.invokeFunction('convertToInteractive',\n",
              "                                                    [key], {});\n",
              "        if (!dataTable) return;\n",
              "\n",
              "        const docLinkHtml = 'Like what you see? Visit the ' +\n",
              "          '<a target=\"_blank\" href=https://colab.research.google.com/notebooks/data_table.ipynb>data table notebook</a>'\n",
              "          + ' to learn more about interactive tables.';\n",
              "        element.innerHTML = '';\n",
              "        dataTable['output_type'] = 'display_data';\n",
              "        await google.colab.output.renderOutput(dataTable, element);\n",
              "        const docLink = document.createElement('div');\n",
              "        docLink.innerHTML = docLinkHtml;\n",
              "        element.appendChild(docLink);\n",
              "      }\n",
              "    </script>\n",
              "  </div>\n",
              "\n",
              "\n",
              "    <div id=\"df-f5465cda-d74a-4fdb-a04d-afe3e9049b31\">\n",
              "      <button class=\"colab-df-quickchart\" onclick=\"quickchart('df-f5465cda-d74a-4fdb-a04d-afe3e9049b31')\"\n",
              "                title=\"Suggest charts\"\n",
              "                style=\"display:none;\">\n",
              "\n",
              "<svg xmlns=\"http://www.w3.org/2000/svg\" height=\"24px\"viewBox=\"0 0 24 24\"\n",
              "     width=\"24px\">\n",
              "    <g>\n",
              "        <path d=\"M19 3H5c-1.1 0-2 .9-2 2v14c0 1.1.9 2 2 2h14c1.1 0 2-.9 2-2V5c0-1.1-.9-2-2-2zM9 17H7v-7h2v7zm4 0h-2V7h2v10zm4 0h-2v-4h2v4z\"/>\n",
              "    </g>\n",
              "</svg>\n",
              "      </button>\n",
              "\n",
              "<style>\n",
              "  .colab-df-quickchart {\n",
              "      --bg-color: #E8F0FE;\n",
              "      --fill-color: #1967D2;\n",
              "      --hover-bg-color: #E2EBFA;\n",
              "      --hover-fill-color: #174EA6;\n",
              "      --disabled-fill-color: #AAA;\n",
              "      --disabled-bg-color: #DDD;\n",
              "  }\n",
              "\n",
              "  [theme=dark] .colab-df-quickchart {\n",
              "      --bg-color: #3B4455;\n",
              "      --fill-color: #D2E3FC;\n",
              "      --hover-bg-color: #434B5C;\n",
              "      --hover-fill-color: #FFFFFF;\n",
              "      --disabled-bg-color: #3B4455;\n",
              "      --disabled-fill-color: #666;\n",
              "  }\n",
              "\n",
              "  .colab-df-quickchart {\n",
              "    background-color: var(--bg-color);\n",
              "    border: none;\n",
              "    border-radius: 50%;\n",
              "    cursor: pointer;\n",
              "    display: none;\n",
              "    fill: var(--fill-color);\n",
              "    height: 32px;\n",
              "    padding: 0;\n",
              "    width: 32px;\n",
              "  }\n",
              "\n",
              "  .colab-df-quickchart:hover {\n",
              "    background-color: var(--hover-bg-color);\n",
              "    box-shadow: 0 1px 2px rgba(60, 64, 67, 0.3), 0 1px 3px 1px rgba(60, 64, 67, 0.15);\n",
              "    fill: var(--button-hover-fill-color);\n",
              "  }\n",
              "\n",
              "  .colab-df-quickchart-complete:disabled,\n",
              "  .colab-df-quickchart-complete:disabled:hover {\n",
              "    background-color: var(--disabled-bg-color);\n",
              "    fill: var(--disabled-fill-color);\n",
              "    box-shadow: none;\n",
              "  }\n",
              "\n",
              "  .colab-df-spinner {\n",
              "    border: 2px solid var(--fill-color);\n",
              "    border-color: transparent;\n",
              "    border-bottom-color: var(--fill-color);\n",
              "    animation:\n",
              "      spin 1s steps(1) infinite;\n",
              "  }\n",
              "\n",
              "  @keyframes spin {\n",
              "    0% {\n",
              "      border-color: transparent;\n",
              "      border-bottom-color: var(--fill-color);\n",
              "      border-left-color: var(--fill-color);\n",
              "    }\n",
              "    20% {\n",
              "      border-color: transparent;\n",
              "      border-left-color: var(--fill-color);\n",
              "      border-top-color: var(--fill-color);\n",
              "    }\n",
              "    30% {\n",
              "      border-color: transparent;\n",
              "      border-left-color: var(--fill-color);\n",
              "      border-top-color: var(--fill-color);\n",
              "      border-right-color: var(--fill-color);\n",
              "    }\n",
              "    40% {\n",
              "      border-color: transparent;\n",
              "      border-right-color: var(--fill-color);\n",
              "      border-top-color: var(--fill-color);\n",
              "    }\n",
              "    60% {\n",
              "      border-color: transparent;\n",
              "      border-right-color: var(--fill-color);\n",
              "    }\n",
              "    80% {\n",
              "      border-color: transparent;\n",
              "      border-right-color: var(--fill-color);\n",
              "      border-bottom-color: var(--fill-color);\n",
              "    }\n",
              "    90% {\n",
              "      border-color: transparent;\n",
              "      border-bottom-color: var(--fill-color);\n",
              "    }\n",
              "  }\n",
              "</style>\n",
              "\n",
              "      <script>\n",
              "        async function quickchart(key) {\n",
              "          const quickchartButtonEl =\n",
              "            document.querySelector('#' + key + ' button');\n",
              "          quickchartButtonEl.disabled = true;  // To prevent multiple clicks.\n",
              "          quickchartButtonEl.classList.add('colab-df-spinner');\n",
              "          try {\n",
              "            const charts = await google.colab.kernel.invokeFunction(\n",
              "                'suggestCharts', [key], {});\n",
              "          } catch (error) {\n",
              "            console.error('Error during call to suggestCharts:', error);\n",
              "          }\n",
              "          quickchartButtonEl.classList.remove('colab-df-spinner');\n",
              "          quickchartButtonEl.classList.add('colab-df-quickchart-complete');\n",
              "        }\n",
              "        (() => {\n",
              "          let quickchartButtonEl =\n",
              "            document.querySelector('#df-f5465cda-d74a-4fdb-a04d-afe3e9049b31 button');\n",
              "          quickchartButtonEl.style.display =\n",
              "            google.colab.kernel.accessAllowed ? 'block' : 'none';\n",
              "        })();\n",
              "      </script>\n",
              "    </div>\n",
              "\n",
              "    </div>\n",
              "  </div>\n"
            ],
            "application/vnd.google.colaboratory.intrinsic+json": {
              "type": "dataframe",
              "variable_name": "circles",
              "summary": "{\n  \"name\": \"circles\",\n  \"rows\": 1000,\n  \"fields\": [\n    {\n      \"column\": \"X1\",\n      \"properties\": {\n        \"dtype\": \"number\",\n        \"std\": 0.6398365674574611,\n        \"min\": -1.0595024599098635,\n        \"max\": 1.0337117525463373,\n        \"num_unique_values\": 1000,\n        \"samples\": [\n          -0.3751930206933384,\n          0.015380346701456493,\n          -0.7027835978832848\n        ],\n        \"semantic_type\": \"\",\n        \"description\": \"\"\n      }\n    },\n    {\n      \"column\": \"X2\",\n      \"properties\": {\n        \"dtype\": \"number\",\n        \"std\": 0.6411559581015379,\n        \"min\": -1.0677683182718436,\n        \"max\": 1.0360036756154805,\n        \"num_unique_values\": 1000,\n        \"samples\": [\n          0.6826597225888621,\n          0.9600260220697324,\n          -0.3147169925147762\n        ],\n        \"semantic_type\": \"\",\n        \"description\": \"\"\n      }\n    },\n    {\n      \"column\": \"label\",\n      \"properties\": {\n        \"dtype\": \"number\",\n        \"std\": 0,\n        \"min\": 0,\n        \"max\": 1,\n        \"num_unique_values\": 2,\n        \"samples\": [\n          0,\n          1\n        ],\n        \"semantic_type\": \"\",\n        \"description\": \"\"\n      }\n    }\n  ]\n}"
            }
          },
          "metadata": {},
          "execution_count": 6
        }
      ],
      "source": [
        "!pip install pandas\n",
        "import pandas\n",
        "print(pandas.__version__)\n",
        "# Make DataFrame of circle data\n",
        "import pandas as pd\n",
        "circles = pd.DataFrame({\"X1\": X[:, 0],\n",
        "    \"X2\": X[:, 1],\n",
        "    \"label\": y\n",
        "})\n",
        "circles.head(10)\n"
      ]
    },
    {
      "cell_type": "code",
      "execution_count": null,
      "id": "e5a6eed4-bf70-4a58-b901-a43204b60b15",
      "metadata": {
        "colab": {
          "base_uri": "https://localhost:8080/",
          "height": 178
        },
        "id": "e5a6eed4-bf70-4a58-b901-a43204b60b15",
        "outputId": "07e26869-a711-4b50-9f0f-bf48c0d827bf"
      },
      "outputs": [
        {
          "output_type": "execute_result",
          "data": {
            "text/plain": [
              "label\n",
              "1    500\n",
              "0    500\n",
              "Name: count, dtype: int64"
            ],
            "text/html": [
              "<div>\n",
              "<style scoped>\n",
              "    .dataframe tbody tr th:only-of-type {\n",
              "        vertical-align: middle;\n",
              "    }\n",
              "\n",
              "    .dataframe tbody tr th {\n",
              "        vertical-align: top;\n",
              "    }\n",
              "\n",
              "    .dataframe thead th {\n",
              "        text-align: right;\n",
              "    }\n",
              "</style>\n",
              "<table border=\"1\" class=\"dataframe\">\n",
              "  <thead>\n",
              "    <tr style=\"text-align: right;\">\n",
              "      <th></th>\n",
              "      <th>count</th>\n",
              "    </tr>\n",
              "    <tr>\n",
              "      <th>label</th>\n",
              "      <th></th>\n",
              "    </tr>\n",
              "  </thead>\n",
              "  <tbody>\n",
              "    <tr>\n",
              "      <th>1</th>\n",
              "      <td>500</td>\n",
              "    </tr>\n",
              "    <tr>\n",
              "      <th>0</th>\n",
              "      <td>500</td>\n",
              "    </tr>\n",
              "  </tbody>\n",
              "</table>\n",
              "</div><br><label><b>dtype:</b> int64</label>"
            ]
          },
          "metadata": {},
          "execution_count": 7
        }
      ],
      "source": [
        "# Check different labels\n",
        "circles.label.value_counts()\n"
      ]
    },
    {
      "cell_type": "code",
      "execution_count": null,
      "id": "567b3604-77c1-4345-bce9-a8ad791e9199",
      "metadata": {
        "colab": {
          "base_uri": "https://localhost:8080/",
          "height": 430
        },
        "id": "567b3604-77c1-4345-bce9-a8ad791e9199",
        "outputId": "e3fbed2b-b211-4ac4-a3a8-382da92d1f14"
      },
      "outputs": [
        {
          "output_type": "display_data",
          "data": {
            "text/plain": [
              "<Figure size 640x480 with 1 Axes>"
            ],
            "image/png": "[encoded data removed]"
          },
          "metadata": {}
        }
      ],
      "source": [
        "# Visualize with a plot\n",
        "import matplotlib.pyplot as plt\n",
        "plt.scatter(x=X[:, 0],\n",
        "            y=X[:, 1],\n",
        "            c=y,\n",
        "            cmap=plt.cm.RdYlBu);"
      ]
    },
    {
      "cell_type": "markdown",
      "id": "61fd5d0b-4f76-4099-bc89-237d6af9d84f",
      "metadata": {
        "id": "61fd5d0b-4f76-4099-bc89-237d6af9d84f"
      },
      "source": [
        "Let's find out how we could build a PyTorch neural network to classify dots into red (0) or blue (1).m"
      ]
    },
    {
      "cell_type": "markdown",
      "id": "d4e28055-b55c-474b-819b-0a6585e97f92",
      "metadata": {
        "id": "d4e28055-b55c-474b-819b-0a6585e97f92"
      },
      "source": [
        "## Input and output shapes"
      ]
    },
    {
      "cell_type": "markdown",
      "id": "46ee4876-22c3-4da2-a978-c64417543778",
      "metadata": {
        "id": "46ee4876-22c3-4da2-a978-c64417543778"
      },
      "source": [
        "![image.png](attachment:ff1191eb-41e4-4eed-97a7-b85409f4f65e.png)"
      ]
    },
    {
      "cell_type": "code",
      "execution_count": null,
      "id": "dd638efb-c196-4691-ad17-15eecc30fe04",
      "metadata": {
        "colab": {
          "base_uri": "https://localhost:8080/"
        },
        "id": "dd638efb-c196-4691-ad17-15eecc30fe04",
        "outputId": "3088dfb4-292d-4084-efa1-e928319ec9d3"
      },
      "outputs": [
        {
          "output_type": "execute_result",
          "data": {
            "text/plain": [
              "((1000, 2), (1000,))"
            ]
          },
          "metadata": {},
          "execution_count": 9
        }
      ],
      "source": [
        "X.shape, y.shape"
      ]
    },
    {
      "cell_type": "code",
      "execution_count": null,
      "id": "92976b58-d4d8-4509-93a5-b5d234e20f71",
      "metadata": {
        "colab": {
          "base_uri": "https://localhost:8080/"
        },
        "id": "92976b58-d4d8-4509-93a5-b5d234e20f71",
        "outputId": "da2d60a7-0198-47e3-c952-cd925f6a830c"
      },
      "outputs": [
        {
          "output_type": "execute_result",
          "data": {
            "text/plain": [
              "array([[ 0.75424625,  0.23148074],\n",
              "       [-0.75615888,  0.15325888],\n",
              "       [-0.81539193,  0.17328203],\n",
              "       ...,\n",
              "       [-0.13690036, -0.81001183],\n",
              "       [ 0.67036156, -0.76750154],\n",
              "       [ 0.28105665,  0.96382443]])"
            ]
          },
          "metadata": {},
          "execution_count": 10
        }
      ],
      "source": [
        "X"
      ]
    },
    {
      "cell_type": "code",
      "execution_count": null,
      "id": "59f534e2-cfc1-4b5e-8995-0746fd17aba6",
      "metadata": {
        "colab": {
          "base_uri": "https://localhost:8080/"
        },
        "id": "59f534e2-cfc1-4b5e-8995-0746fd17aba6",
        "outputId": "10e60937-b286-4025-d14e-c5f1315991dc"
      },
      "outputs": [
        {
          "output_type": "stream",
          "name": "stdout",
          "text": [
            "[0.75424625 0.23148074]\n",
            "(2,)\n",
            "1\n",
            "()\n"
          ]
        }
      ],
      "source": [
        "#View the first example of the features and lables\n",
        "\n",
        "X_sample = X[0]\n",
        "y_sample = y[0]\n",
        "\n",
        "print(X_sample)\n",
        "print(X_sample.shape)\n",
        "print(y_sample)\n",
        "print(y_sample.shape)\n",
        "\n"
      ]
    },
    {
      "cell_type": "markdown",
      "id": "a52d6beb-7aef-42c2-9fef-19bc1fff570b",
      "metadata": {
        "id": "a52d6beb-7aef-42c2-9fef-19bc1fff570b"
      },
      "source": [
        "# Turn data into tensors and cretae train and test splits"
      ]
    },
    {
      "cell_type": "code",
      "execution_count": null,
      "id": "e3dfa002-c9e4-4665-a31f-1fcad909a7ec",
      "metadata": {
        "colab": {
          "base_uri": "https://localhost:8080/",
          "height": 35
        },
        "id": "e3dfa002-c9e4-4665-a31f-1fcad909a7ec",
        "outputId": "f9b0020c-ad00-4ea3-a975-ac04a90a4662"
      },
      "outputs": [
        {
          "output_type": "execute_result",
          "data": {
            "text/plain": [
              "'2.6.0+cu124'"
            ],
            "application/vnd.google.colaboratory.intrinsic+json": {
              "type": "string"
            }
          },
          "metadata": {},
          "execution_count": 12
        }
      ],
      "source": [
        "import torch\n",
        "torch.__version__"
      ]
    },
    {
      "cell_type": "code",
      "execution_count": null,
      "id": "6adf6351-06dd-48b3-8149-22e927c4c873",
      "metadata": {
        "colab": {
          "base_uri": "https://localhost:8080/"
        },
        "id": "6adf6351-06dd-48b3-8149-22e927c4c873",
        "outputId": "bd727feb-06da-45aa-b58d-bf7633a04fde"
      },
      "outputs": [
        {
          "output_type": "execute_result",
          "data": {
            "text/plain": [
              "(numpy.ndarray, dtype('float64'))"
            ]
          },
          "metadata": {},
          "execution_count": 13
        }
      ],
      "source": [
        "type(X), X.dtype"
      ]
    },
    {
      "cell_type": "code",
      "execution_count": null,
      "id": "79c69af5-9118-4728-aabf-125e3eedbbcc",
      "metadata": {
        "colab": {
          "base_uri": "https://localhost:8080/"
        },
        "id": "79c69af5-9118-4728-aabf-125e3eedbbcc",
        "outputId": "5648c758-5198-4537-9751-3ea3142d6f08"
      },
      "outputs": [
        {
          "output_type": "execute_result",
          "data": {
            "text/plain": [
              "(tensor([[ 0.7542,  0.2315],\n",
              "         [-0.7562,  0.1533],\n",
              "         [-0.8154,  0.1733],\n",
              "         [-0.3937,  0.6929],\n",
              "         [ 0.4422, -0.8967]]),\n",
              " tensor([1., 1., 1., 1., 0.]))"
            ]
          },
          "metadata": {},
          "execution_count": 14
        }
      ],
      "source": [
        "# Turn data into tensors\n",
        "# Otherwise this causes issues with computations later on\n",
        "import torch\n",
        "X = torch.from_numpy(X).type(torch.float)\n",
        "y = torch.from_numpy(y).type(torch.float)\n",
        "\n",
        "# View the first five samples\n",
        "X[:5], y[:5]\n"
      ]
    },
    {
      "cell_type": "code",
      "execution_count": null,
      "id": "bbc448e9-c9c0-4c39-a8bd-9a6dd6ac288b",
      "metadata": {
        "colab": {
          "base_uri": "https://localhost:8080/"
        },
        "id": "bbc448e9-c9c0-4c39-a8bd-9a6dd6ac288b",
        "outputId": "40b7c668-1c7e-4b54-a963-c46e488eae1e"
      },
      "outputs": [
        {
          "output_type": "execute_result",
          "data": {
            "text/plain": [
              "(800, 200, 800, 200)"
            ]
          },
          "metadata": {},
          "execution_count": 15
        }
      ],
      "source": [
        "# Split data into train and test sets\n",
        "from sklearn.model_selection import train_test_split\n",
        "\n",
        "X_train, X_test, y_train, y_test = train_test_split(X,\n",
        "                                                    y,\n",
        "                                                    test_size=0.2, # 20% test, 80% train\n",
        "                                                    random_state=42) # make the random split reproducible\n",
        "\n",
        "len(X_train), len(X_test), len(y_train), len(y_test)\n",
        "\n"
      ]
    },
    {
      "cell_type": "code",
      "execution_count": null,
      "id": "20c8f46b-11c6-4d26-a85d-08dd6da1dcd3",
      "metadata": {
        "colab": {
          "base_uri": "https://localhost:8080/"
        },
        "id": "20c8f46b-11c6-4d26-a85d-08dd6da1dcd3",
        "outputId": "24261a27-70bb-4318-ea49-4ceb9bf44a44"
      },
      "outputs": [
        {
          "output_type": "execute_result",
          "data": {
            "text/plain": [
              "(800, 200, 800, 200)"
            ]
          },
          "metadata": {},
          "execution_count": 16
        }
      ],
      "source": [
        "len(X_train), len(X_test), len(y_train), len(y_test)"
      ]
    },
    {
      "cell_type": "markdown",
      "id": "cdecc2ef-1b39-4b4e-825a-52d1e06ba56e",
      "metadata": {
        "id": "cdecc2ef-1b39-4b4e-825a-52d1e06ba56e"
      },
      "source": [
        "## 2. **Building a Model**\n",
        "* Setting up device agnostic code (so our model can run on CPU or GPU if it's available).\n",
        "* Constructing a model by subclassing `nn.Module`.\n",
        "* Defining a loss function and optimizer.\n",
        "* Creating a training loop (this'll be in the next section).\n",
        "\n"
      ]
    },
    {
      "cell_type": "code",
      "execution_count": null,
      "id": "f9654688-2259-4968-872d-6ff4ba89646e",
      "metadata": {
        "colab": {
          "base_uri": "https://localhost:8080/"
        },
        "id": "f9654688-2259-4968-872d-6ff4ba89646e",
        "outputId": "4428bf2a-c35f-4ab5-e1c2-c8e93a5afbb3"
      },
      "outputs": [
        {
          "output_type": "execute_result",
          "data": {
            "text/plain": [
              "True"
            ]
          },
          "metadata": {},
          "execution_count": 17
        }
      ],
      "source": [
        "import torch\n",
        "torch.cuda.is_available()\n"
      ]
    },
    {
      "cell_type": "code",
      "execution_count": null,
      "id": "95a419e6-56c9-4241-abf2-974940cc2104",
      "metadata": {
        "colab": {
          "base_uri": "https://localhost:8080/",
          "height": 35
        },
        "id": "95a419e6-56c9-4241-abf2-974940cc2104",
        "outputId": "dde30616-c089-4541-93e5-8947e9010a68"
      },
      "outputs": [
        {
          "output_type": "execute_result",
          "data": {
            "text/plain": [
              "'cuda'"
            ],
            "application/vnd.google.colaboratory.intrinsic+json": {
              "type": "string"
            }
          },
          "metadata": {},
          "execution_count": 18
        }
      ],
      "source": [
        "import torch\n",
        "from torch import nn\n",
        "\n",
        "#Make devide agnostic code\n",
        "device = \"cuda\" if torch.cuda.is_available() else \"cpu\"\n",
        "device"
      ]
    },
    {
      "cell_type": "code",
      "execution_count": null,
      "id": "ccc18ea0-dabf-44ba-b352-dbd7c8f35281",
      "metadata": {
        "colab": {
          "base_uri": "https://localhost:8080/"
        },
        "id": "ccc18ea0-dabf-44ba-b352-dbd7c8f35281",
        "outputId": "27ad6f5b-280b-4e6f-ec51-622d8a9864f9"
      },
      "outputs": [
        {
          "output_type": "execute_result",
          "data": {
            "text/plain": [
              "tensor([[ 0.6579, -0.4651],\n",
              "        [ 0.6319, -0.7347],\n",
              "        [-1.0086, -0.1240],\n",
              "        ...,\n",
              "        [ 0.0157, -1.0300],\n",
              "        [ 1.0110,  0.1680],\n",
              "        [ 0.5578, -0.5709]])"
            ]
          },
          "metadata": {},
          "execution_count": 19
        }
      ],
      "source": [
        "X_train"
      ]
    },
    {
      "cell_type": "markdown",
      "source": [
        "from types import MethodDescriptorType\n",
        "We have to create a models that:\n",
        "* Subclasses `nn.module`\n",
        "* Create two `nn.Linear()` layers\n",
        "* Defines a `forward()` MethodDescriptorType\n",
        "\n"
      ],
      "metadata": {
        "id": "36266ea4-8d87-440e-ab0d-2cb11cdd5268"
      },
      "id": "36266ea4-8d87-440e-ab0d-2cb11cdd5268"
    },
    {
      "cell_type": "code",
      "source": [
        "X_train.shape"
      ],
      "metadata": {
        "colab": {
          "base_uri": "https://localhost:8080/"
        },
        "id": "vp0am0wd4H9g",
        "outputId": "4c53846c-c21c-426d-9117-744de24cfca1"
      },
      "id": "vp0am0wd4H9g",
      "execution_count": null,
      "outputs": [
        {
          "output_type": "execute_result",
          "data": {
            "text/plain": [
              "torch.Size([800, 2])"
            ]
          },
          "metadata": {},
          "execution_count": 20
        }
      ]
    },
    {
      "cell_type": "code",
      "execution_count": null,
      "id": "33ebf513-5b80-420f-b784-54d8c55aa4b2",
      "metadata": {
        "colab": {
          "base_uri": "https://localhost:8080/"
        },
        "id": "33ebf513-5b80-420f-b784-54d8c55aa4b2",
        "outputId": "14a01e09-1abf-4bd5-dfc4-4647b48efb9c"
      },
      "outputs": [
        {
          "output_type": "execute_result",
          "data": {
            "text/plain": [
              "CircleModelV0(\n",
              "  (layer_1): Linear(in_features=2, out_features=5, bias=True)\n",
              "  (layer_2): Linear(in_features=5, out_features=1, bias=True)\n",
              ")"
            ]
          },
          "metadata": {},
          "execution_count": 22
        }
      ],
      "source": [
        "# CONSTRUCT A MODEL\n",
        "\n",
        "class CircleModelV0(nn.Module):\n",
        "  def __init__(self):\n",
        "    super().__init__()\n",
        "    # Create a nn.linear layer\n",
        "    self.layer_1 = nn.Linear(in_features=2, out_features=5)\n",
        "    self.layer_2 = nn.Linear(in_features=5, out_features=1)\n",
        "  # defining a forward() model\n",
        "  def forward(self, x):\n",
        "    return self.layer_2(self.layer_1(x))  # x --> layer_1 --> layer_2 --> output\n",
        "\n",
        "model_0 = CircleModelV0().to(device)\n",
        "model_0"
      ]
    },
    {
      "cell_type": "code",
      "execution_count": null,
      "id": "b30ae157-e264-42fb-8704-7ce0403f41b7",
      "metadata": {
        "colab": {
          "base_uri": "https://localhost:8080/"
        },
        "id": "b30ae157-e264-42fb-8704-7ce0403f41b7",
        "outputId": "57e5dc2e-7340-4199-9379-f0d7a95c6bcc"
      },
      "outputs": [
        {
          "output_type": "execute_result",
          "data": {
            "text/plain": [
              "device(type='cuda', index=0)"
            ]
          },
          "metadata": {},
          "execution_count": 23
        }
      ],
      "source": [
        "next(model_0.parameters()).device"
      ]
    },
    {
      "cell_type": "markdown",
      "source": [
        "![image.png](data:image/png;base64,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)"
      ],
      "metadata": {
        "id": "A62aedtkIIga"
      },
      "id": "A62aedtkIIga"
    },
    {
      "cell_type": "markdown",
      "source": [
        "You can also do the same as above using nn.Sequential.\n",
        "\n",
        "`nn.Sequential` performs a forward pass computation of the input data through the layers in the order they appear."
      ],
      "metadata": {
        "id": "chlbs7ypH5fF"
      },
      "id": "chlbs7ypH5fF"
    },
    {
      "cell_type": "code",
      "source": [
        "\n",
        "# Replicate CircleModelV0 with nn.Sequential\n",
        "model_0 = nn.Sequential(\n",
        "    nn.Linear(in_features=2, out_features=5),\n",
        "    nn.Linear(in_features=5, out_features=1)\n",
        ").to(device)\n",
        "\n",
        "model_0\n"
      ],
      "metadata": {
        "colab": {
          "base_uri": "https://localhost:8080/"
        },
        "id": "d-ca5WCA5pFV",
        "outputId": "4592b116-f3b4-45d5-b8c7-29cfd7015f13"
      },
      "id": "d-ca5WCA5pFV",
      "execution_count": null,
      "outputs": [
        {
          "output_type": "execute_result",
          "data": {
            "text/plain": [
              "Sequential(\n",
              "  (0): Linear(in_features=2, out_features=5, bias=True)\n",
              "  (1): Linear(in_features=5, out_features=1, bias=True)\n",
              ")"
            ]
          },
          "metadata": {},
          "execution_count": 24
        }
      ]
    },
    {
      "cell_type": "code",
      "source": [
        "model_0.state_dict()"
      ],
      "metadata": {
        "colab": {
          "base_uri": "https://localhost:8080/"
        },
        "id": "shciaD8cImOj",
        "outputId": "29c7dbf9-551b-40d1-b841-03919ae475dd"
      },
      "id": "shciaD8cImOj",
      "execution_count": null,
      "outputs": [
        {
          "output_type": "execute_result",
          "data": {
            "text/plain": [
              "OrderedDict([('0.weight',\n",
              "              tensor([[ 0.6078,  0.2301],\n",
              "                      [ 0.6162,  0.1139],\n",
              "                      [-0.0208,  0.1612],\n",
              "                      [-0.6360, -0.3275],\n",
              "                      [-0.2620,  0.1399]], device='cuda:0')),\n",
              "             ('0.bias',\n",
              "              tensor([ 0.2905, -0.4775,  0.0759, -0.5202,  0.6674], device='cuda:0')),\n",
              "             ('1.weight',\n",
              "              tensor([[ 0.2995,  0.0699, -0.2916, -0.1599, -0.3283]], device='cuda:0')),\n",
              "             ('1.bias', tensor([-0.2382], device='cuda:0'))])"
            ]
          },
          "metadata": {},
          "execution_count": 25
        }
      ]
    },
    {
      "cell_type": "markdown",
      "source": [
        "Looks much simpler than subclassing nn.Module, why not just always use nn.Sequential?\n",
        "\n",
        "> `nn.Sequential` is fantastic for straight-forward computations, however, as the namespace says, it always runs in sequential order.\n",
        "\n",
        "> So if you'd like something else to happen (rather than just straight-forward sequential computation) you'll want to define your own custom `nn.Module`\n",
        "subclass."
      ],
      "metadata": {
        "id": "qeyfLLSwLIVH"
      },
      "id": "qeyfLLSwLIVH"
    },
    {
      "cell_type": "code",
      "source": [
        "# Make predictions with the model\n",
        "with torch.inference_mode():\n",
        "     untrained_preds = model_0(X_test.to(device))\n",
        "     print(f\"Length of predictions: {len(untrained_preds)}, Shape: {untrained_preds.shape}\")\n",
        "     print(f\"Length of test samples: {len(y_test)}, Shape: {y_test.shape}\")\n",
        "     print(f\"\\nFirst 10 predictions:\\n{untrained_preds[:10]}\")\n",
        "     print(f\"\\nFirst 10 test labels:\\n{y_test[:10]}\")"
      ],
      "metadata": {
        "colab": {
          "base_uri": "https://localhost:8080/"
        },
        "id": "5PEuPNxaI4-Y",
        "outputId": "5c041f24-f15d-4a6c-dac6-9bb88b192a81"
      },
      "id": "5PEuPNxaI4-Y",
      "execution_count": null,
      "outputs": [
        {
          "output_type": "stream",
          "name": "stdout",
          "text": [
            "Length of predictions: 200, Shape: torch.Size([200, 1])\n",
            "Length of test samples: 200, Shape: torch.Size([200])\n",
            "\n",
            "First 10 predictions:\n",
            "tensor([[-0.4750],\n",
            "        [-0.3013],\n",
            "        [-0.6484],\n",
            "        [-0.4270],\n",
            "        [-0.2011],\n",
            "        [-0.0985],\n",
            "        [ 0.0359],\n",
            "        [ 0.0846],\n",
            "        [-0.6670],\n",
            "        [-0.2848]], device='cuda:0')\n",
            "\n",
            "First 10 test labels:\n",
            "tensor([1., 0., 1., 0., 1., 1., 0., 0., 1., 0.])\n"
          ]
        }
      ]
    },
    {
      "cell_type": "markdown",
      "source": [
        "### Set up loss function and Optimizer\n",
        "\n",
        "1. For Regression --> MAE, MSE\n",
        "2. For Classification -->  Binary cross entropy\n",
        "\n",
        "PyTorch has two binary cross entropy implementations:\n",
        "\n",
        "`torch.nn.BCELoss()` - Creates a loss function that measures the binary cross entropy between the target (label) and input (features).\n",
        "`torch.nn.BCEWithLogitsLoss()` - This is the same as above except it has a sigmoid layer (nn.Sigmoid) built-in (we'll see what this means soon). The documentation for torch.nn.BCEWithLogitsLoss() states that it's more numerically stable than using torch.nn.BCELoss() after a nn.Sigmoid layer.\n",
        "\n",
        "For Optimizer --> SGD, ADAM Optimizer"
      ],
      "metadata": {
        "id": "o-Lb446ZOi3H"
      },
      "id": "o-Lb446ZOi3H"
    },
    {
      "cell_type": "markdown",
      "source": [
        "![image.png](data:image/png;base64,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)"
      ],
      "metadata": {
        "id": "AQBTlY8pPI-q"
      },
      "id": "AQBTlY8pPI-q"
    },
    {
      "cell_type": "code",
      "source": [
        "# SET UP THE LOSS FUNCTION\n",
        "# loss_fn = nn.BCELoss() # BCELoss = no sigmoid built-in\n",
        "loss_fn = torch.nn.BCEWithLogitsLoss()        #built-in sigmoid\n",
        "\n",
        "#CREATE AN OPTIMIZER\n",
        "optimizer = torch.optim.SGD(params=model_0.parameters(),\n",
        "                            lr=0.1)"
      ],
      "metadata": {
        "id": "biVM5_R2O5tD"
      },
      "id": "biVM5_R2O5tD",
      "execution_count": null,
      "outputs": []
    },
    {
      "cell_type": "markdown",
      "source": [
        "An evaluation metric can be used to offer another perspective on how your model is going.\n",
        "\n",
        "If a loss function measures how wrong your model is, I like to think of evaluation metrics as measuring how right it is."
      ],
      "metadata": {
        "id": "I7SHSZzaXJRC"
      },
      "id": "I7SHSZzaXJRC"
    },
    {
      "cell_type": "code",
      "source": [
        "# Calculate accuracy (a classification metric)\n",
        "def accuracy_fn(y_true, y_pred):\n",
        "    correct = torch.eq(y_true, y_pred).sum().item() # torch.eq() calculates where two tensors are equal\n",
        "    acc = (correct / len(y_pred)) * 100\n",
        "    return acc"
      ],
      "metadata": {
        "id": "LW_99FIlLZKZ"
      },
      "id": "LW_99FIlLZKZ",
      "execution_count": null,
      "outputs": []
    },
    {
      "cell_type": "markdown",
      "source": [
        "## 3. **TRAIN MODEL**\n",
        "PyTorch training loop steps\n",
        "1. Forward pass\n",
        "2. Calculate the loss\n",
        "3. Zero gradients\n",
        "4. Perform backpropagation on the loss\n",
        "5. Step the optimizer (gradient descent)\n"
      ],
      "metadata": {
        "id": "S6OMwXNtXb4c"
      },
      "id": "S6OMwXNtXb4c"
    },
    {
      "cell_type": "markdown",
      "source": [
        "## Going from raw model outputs to predicted labels (logits -> prediction probabilities -> prediction labels)"
      ],
      "metadata": {
        "id": "O8iJ35yAYO77"
      },
      "id": "O8iJ35yAYO77"
    },
    {
      "cell_type": "code",
      "source": [
        "# View the frist 5 outputs of the forward pass on the test data\n",
        "y_logits = model_0(X_test.to(device))[:5]\n",
        "y_logits"
      ],
      "metadata": {
        "colab": {
          "base_uri": "https://localhost:8080/"
        },
        "id": "Cd0KdgYsXBlq",
        "outputId": "42e903ff-8334-4542-a8d7-dff2fcafc78d"
      },
      "id": "Cd0KdgYsXBlq",
      "execution_count": null,
      "outputs": [
        {
          "output_type": "execute_result",
          "data": {
            "text/plain": [
              "tensor([[-0.4750],\n",
              "        [-0.3013],\n",
              "        [-0.6484],\n",
              "        [-0.4270],\n",
              "        [-0.2011]], device='cuda:0', grad_fn=<SliceBackward0>)"
            ]
          },
          "metadata": {},
          "execution_count": 34
        }
      ]
    },
    {
      "cell_type": "markdown",
      "source": [
        "**LOGITS**  : The raw outputs (unmodified) of this equation (\n",
        ") and in turn, the raw outputs of our model are often referred to as logits."
      ],
      "metadata": {
        "id": "T4sIh7NxY5Is"
      },
      "id": "T4sIh7NxY5Is"
    },
    {
      "cell_type": "markdown",
      "source": [],
      "metadata": {
        "id": "NXbw7SUyZhEQ"
      },
      "id": "NXbw7SUyZhEQ"
    },
    {
      "cell_type": "markdown",
      "source": [
        "To get our model's raw outputs (logits) into such a form that are compatible with our truth lables , we can use the **sigmoid activation function**."
      ],
      "metadata": {
        "id": "cVKR-EpDZVQC"
      },
      "id": "cVKR-EpDZVQC"
    },
    {
      "cell_type": "code",
      "source": [
        "# Use sigmoid on model logits\n",
        "y_pred_probs = torch.sigmoid(y_logits)\n",
        "y_pred_probs\n"
      ],
      "metadata": {
        "colab": {
          "base_uri": "https://localhost:8080/"
        },
        "id": "nS1gRXt7YXhL",
        "outputId": "6a2ba2ce-2831-4957-a949-180528489a16"
      },
      "id": "nS1gRXt7YXhL",
      "execution_count": null,
      "outputs": [
        {
          "output_type": "execute_result",
          "data": {
            "text/plain": [
              "tensor([[0.3834],\n",
              "        [0.4252],\n",
              "        [0.3433],\n",
              "        [0.3948],\n",
              "        [0.4499]], device='cuda:0', grad_fn=<SigmoidBackward0>)"
            ]
          },
          "metadata": {},
          "execution_count": 35
        }
      ]
    },
    {
      "cell_type": "code",
      "source": [
        "# Find the predicted labels (round the prediction probabilities)\n",
        "y_preds = torch.round(y_pred_probs)\n",
        "\n",
        "# In full(logits -> pred_prob --> pred_lables)\n",
        "y_pred_labels = torch.round(torch.sigmoid(model_0(X_test.to(device))[:5]))\n",
        "\n",
        "# Check for equality\n",
        "print(torch.eq(y_preds.squeeze(), y_pred_labels.squeeze()))\n",
        "\n",
        "# Get rid of extra dimension\n",
        "y_preds.squeeze()\n",
        "\n"
      ],
      "metadata": {
        "colab": {
          "base_uri": "https://localhost:8080/"
        },
        "id": "1JRmb5Q7ZgbG",
        "outputId": "ca0b4426-4be4-4026-da1a-b7795df9da3a"
      },
      "id": "1JRmb5Q7ZgbG",
      "execution_count": null,
      "outputs": [
        {
          "output_type": "stream",
          "name": "stdout",
          "text": [
            "tensor([True, True, True, True, True], device='cuda:0')\n"
          ]
        },
        {
          "output_type": "execute_result",
          "data": {
            "text/plain": [
              "tensor([0., 0., 0., 0., 0.], device='cuda:0', grad_fn=<SqueezeBackward0>)"
            ]
          },
          "metadata": {},
          "execution_count": 36
        }
      ]
    },
    {
      "cell_type": "markdown",
      "source": [
        "\n",
        "*  If y_pred_probs >= 0.5, y=1 (class 1)\n",
        "*   If y_pred_probs < 0.5, y=0 (class 0)\n",
        "\n"
      ],
      "metadata": {
        "id": "1fqhPd-JZ_L_"
      },
      "id": "1fqhPd-JZ_L_"
    },
    {
      "cell_type": "code",
      "source": [],
      "metadata": {
        "id": "h-VjvwPoZ3WF"
      },
      "id": "h-VjvwPoZ3WF",
      "execution_count": null,
      "outputs": []
    }
  ],
  "metadata": {
    "kernelspec": {
      "display_name": "Python 3",
      "name": "python3"
    },
    "language_info": {
      "codemirror_mode": {
        "name": "ipython",
        "version": 3
      },
      "file_extension": ".py",
      "mimetype": "text/x-python",
      "name": "python",
      "nbconvert_exporter": "python",
      "pygments_lexer": "ipython3",
      "version": "3.13.1"
    },
    "colab": {
      "provenance": [],
      "gpuType": "T4",
      "include_colab_link": true
    },
    "accelerator": "GPU"
  },
  "nbformat": 4,
  "nbformat_minor": 5
}